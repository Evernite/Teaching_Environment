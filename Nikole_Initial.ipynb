{
 "cells": [
  {
   "cell_type": "markdown",
   "id": "celtic-estate",
   "metadata": {},
   "source": [
    "### Hey Niki!  \n",
    "\n",
    "So this should hopefully give you some ideas for things to play with in Jupyter, Python, Pandas, etc.  \n",
    "I know that all of this is super new, but that's okay!   \n",
    "\n",
    "I'm definitely not going to be able to give a huge in-depth thing around this.. but I can share links!  \n",
    "What you're currently looking at is a [Jupyter Notebook](https://jupyter-notebook-beginner-guide.readthedocs.io/en/latest/what_is_jupyter.html). This is an interactive IDE (integrated development environment) where you can slap in Python code and run it in individual cells, while also being able to document your work using the Markdown language! (That's what this cell is, actually.)\n",
    "\n",
    "[Markdown](https://www.ultraedit.com/company/blog/community/what-is-markdown-why-use-it.html) is a language that helps with basic text formatting, similar to a word processor. It's very popular among developers because of its ease of use.  \n",
    "\n",
    "Anyway, I'm using this as a way to help guide some of your learning and give you some real-world examples of what you can do with Jupyter, Python.. that kind of stuff."
   ]
  },
  {
   "cell_type": "code",
   "execution_count": null,
   "id": "willing-expansion",
   "metadata": {},
   "outputs": [],
   "source": [
    "# This is an actual 'code' cell where you can run Python code. This is a comment.\n",
    "# If you hold Left Ctrl and hit Enter, you'll run the actual code below.\n",
    "\n",
    "print('Press Ctrl + Enter to make me print a line.')"
   ]
  },
  {
   "cell_type": "markdown",
   "id": "dangerous-cloud",
   "metadata": {},
   "source": [
    "The great thing about Jupyter is that you can split your code into these cells and run them individually. \n",
    "\n",
    "Anything you run stays in memory until you restart the kernel. So this lets you develop code in steps!\n"
   ]
  },
  {
   "cell_type": "code",
   "execution_count": null,
   "id": "exclusive-control",
   "metadata": {},
   "outputs": [],
   "source": [
    "# For example.. I'll create a variable that holds your name! If you run this cell (Ctrl + Enter) the variable will be created.\n",
    "\n",
    "name = 'Nikole'"
   ]
  },
  {
   "cell_type": "code",
   "execution_count": null,
   "id": "corporate-partition",
   "metadata": {},
   "outputs": [],
   "source": [
    "# And then when you run this cell, it will say hello with your name!\n",
    "\n",
    "print(f'Hey there {name}! Glad you could make it!')"
   ]
  },
  {
   "cell_type": "code",
   "execution_count": null,
   "id": "legal-somalia",
   "metadata": {
    "scrolled": true
   },
   "outputs": [],
   "source": [
    "# Since things are stored in memory, you can continue to develop new cells without having to run the previous cells.\n",
    "# In normal Python scripts, you would have to run the entire script in one go. \n",
    "# This lets you develop things pretty quick, and is why I like Jupyter so much for my work.\n",
    "\n",
    "print(f'I can reuse the name variable ({name}) as much as I want without having to run previous cells again. Whee.')"
   ]
  },
  {
   "cell_type": "markdown",
   "id": "bigger-employment",
   "metadata": {},
   "source": [
    "Normally you would have to install these packages in a new environment, but I took care of that already using the `requirements.txt` file. All of the imports below should work just fine! I included some notes about each one for more research but.. it's probably a ton of reading, haha.\n",
    "\n",
    "The imports below are some of my most commonly used tools.\n",
    "\n",
    "[What is Pandas?](https://towardsdatascience.com/a-quick-introduction-to-the-pandas-python-library-f1b678f34673)"
   ]
  },
  {
   "cell_type": "code",
   "execution_count": null,
   "id": "coated-victim",
   "metadata": {
    "scrolled": true
   },
   "outputs": [],
   "source": [
    "import pandas as pd\n",
    "import numpy as np\n",
    "import os"
   ]
  },
  {
   "cell_type": "code",
   "execution_count": null,
   "id": "numerous-stream",
   "metadata": {},
   "outputs": [],
   "source": [
    "# os is a nifty operating system manipulation package. You can do a lot with it.\n",
    "# I normally use it to load files or iterate through file folders on my computer.\n",
    "\n",
    "# Like this! It'll print out the contents of the root folder for this cloud environment.\n",
    "os.listdir()"
   ]
  },
  {
   "cell_type": "code",
   "execution_count": null,
   "id": "popular-depression",
   "metadata": {},
   "outputs": [],
   "source": [
    "# Which is cool, but not super helpful for what I normally do. What I would normally do looks more like this -\n",
    "\n",
    "for file in os.listdir():\n",
    "    # Do some stuff to the files, like load them to pandas (if they are CSV or Excel files, or even PDF files)\n",
    "    # Here I'm just going to print them.. again.\n",
    "    print(file)"
   ]
  },
  {
   "cell_type": "markdown",
   "id": "vietnamese-representative",
   "metadata": {},
   "source": [
    "Pandas is pretty much my de-facto tool for *everything*. \n",
    "\n",
    "Literally everything. \n",
    "\n",
    "It loads things to a familiar spreadsheet-style view and lets you manipulate it. There's so, so much I can share with this. But.. baby steps.\n",
    "\n",
    "Here's a quick example using some Gamestop stock market data I downloaded a while back."
   ]
  },
  {
   "cell_type": "code",
   "execution_count": null,
   "id": "systematic-consumer",
   "metadata": {},
   "outputs": [],
   "source": [
    "# I load the file using pandas and save it to a variable named 'gamestop'\n",
    "gamestop = pd.read_csv('gme-daily-ftd.csv')"
   ]
  },
  {
   "cell_type": "markdown",
   "id": "impressive-language",
   "metadata": {},
   "source": [
    "So.. uh.. nothing happened? \n",
    "\n",
    "Well, it did! We just didn't actually do anything with the variable after creating it. Here's a few things you could do, try copying them into the cell below and running them one at a time!\n",
    "\n",
    "gamestop.info()\n",
    "\n",
    "gamestop.head()\n",
    "\n",
    "gamestop.describe()\n",
    "\n",
    "gamestop['QUANTITY (FAILS)'].describe()\n",
    "\n",
    "These two below show one of the common things I actually do with a lot of data I work with, especially stuff I have to load from Excel or CSV. The 'DATETIME' column SHOULD be a date or a time, but it's an 'object' data type. Which you can see with gamestop.info() above. This means that normal date-type operations can't be easily done to it, and it behaves like a string instead. You can easily convert DATETIME to the right data type using pandas.\n",
    "\n",
    "gamestop['DATETIME']\n",
    "\n",
    "pd.to_datetime(gamestop['DATETIME']\n",
    "\n",
    "gamestop['DATETIME_FIXED'] = pd.to_datetime(gamestop['DATETIME']\n",
    "\n",
    "These three commands will (1) show a few rows of the DATETIME field (2) convert those rows to an actual datetime data type and (3) create a new column named DATETIME_FIXED that has the corrected data type field\n",
    "\n",
    "Hopefully this is a nice primer for what you might be able to do with Pandas.\n",
    "\n",
    "I included a second CSV file that you can load and play around with. Can you find a way to answer these questions without actually opening the CSV file, but instead parsing it with pandas?\n",
    "\n",
    "1. How many rows of data are there in the CSV?\n",
    "2. What's the highest OPEN and CLOSE values in the file?\n",
    "3. What's the earliest date in the file?"
   ]
  },
  {
   "cell_type": "code",
   "execution_count": null,
   "id": "stopped-helmet",
   "metadata": {},
   "outputs": [],
   "source": [
    "# CSV filename is 'GME.csv'"
   ]
  }
 ],
 "metadata": {
  "kernelspec": {
   "display_name": "Python 3",
   "language": "python",
   "name": "python3"
  },
  "language_info": {
   "codemirror_mode": {
    "name": "ipython",
    "version": 3
   },
   "file_extension": ".py",
   "mimetype": "text/x-python",
   "name": "python",
   "nbconvert_exporter": "python",
   "pygments_lexer": "ipython3",
   "version": "3.7.9"
  }
 },
 "nbformat": 4,
 "nbformat_minor": 5
}
